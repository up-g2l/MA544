{
 "cells": [
  {
   "cell_type": "markdown",
   "metadata": {
    "slideshow": {
     "slide_type": "slide"
    }
   },
   "source": [
    "<br>\n",
    "\n",
    "#  Graphs, Sparse Matrices and Applications\n",
    "---\n",
    "<img src=\"https://miro.medium.com/max/1750/1*V-5yjLcZajucFtL9z-OeIg.png\" width=\"100%\"/>\n",
    "\n",
    "\n",
    "[Image Source](https://miro.medium.com/max/1750/1*V-5yjLcZajucFtL9z-OeIg.png)"
   ]
  },
  {
   "cell_type": "markdown",
   "metadata": {
    "slideshow": {
     "slide_type": "slide"
    }
   },
   "source": [
    "---\n",
    "**Agenda**\n",
    "\n",
    " >- Introduction to Graphs\n",
    " >- Matrix representation of graphs: Adjacency and Incidence Matrix\n",
    " >- Graph Laplacians and their Properties\n",
    " >- Connectedness of Graphs\n",
    " >- Graph Partitioning\n",
    " >- Applications: Spectral Clustering\n",
    " >- Applications: Page-ranks\n",
    " >- Power iterations for dominant eigenvalue and associated eigenvector\n",
    " \n",
    "\n",
    "<br><br><br><br>"
   ]
  },
  {
   "cell_type": "markdown",
   "metadata": {
    "slideshow": {
     "slide_type": "slide"
    }
   },
   "source": [
    "**References**\n",
    "- Fundamentals\n",
    " >1. Chapter 10 Elden on Graphs and Matrices.\n",
    " >1. Chapter 13 Elden on Page Ranking.\n",
    " >1. Chapter 16 Elden on Spectral Graph Partitioning.\n",
    "\n",
    "- Advanced\n",
    " >1. Mining Large Graphs, [Gleich and Mahoney](https://www.cs.cornell.edu/courses/cs6241/2020sp/readings/Gleich-2016-mining.pdf).\n",
    " >1. William L Hamilton [Graph Representation Learning](https://www.cs.mcgill.ca/~wlh/grl_book/files/GRL_Book.pdf).\n",
    "\n",
    "- Other Resources  \n",
    " >1. [Stanford Large Network Data Collection.](https://snap.stanford.edu/data/#web)\n",
    " >1. [SciPy Sparse Documentation](https://docs.scipy.org/doc/scipy/reference/sparse.html)\n",
    " >1. Read the [blog](https://dziganto.github.io/Sparse-Matrices-For-Efficient-Machine-Learning/) by David Ziganto for a comparison between sparse and dense representations of the data matrix in machine learning.\n",
    " >1. Another [blog](https://machinelearningmastery.com/sparse-matrices-for-machine-learning/) by Jason Brownlee.\n",
    " >1. [WikiPedia: Sparse Matrix](https://en.wikipedia.org/wiki/Sparse_matrix)\n",
    "\n",
    "<br>"
   ]
  },
  {
   "cell_type": "code",
   "execution_count": 1,
   "metadata": {},
   "outputs": [],
   "source": [
    "import numpy as np\n",
    "import matplotlib.pyplot as plt\n",
    "\n",
    "\n",
    "np.random.seed(100)\n",
    "%matplotlib inline\n",
    "\n",
    "#!jt -t grade3 -fs 110 -altp -tfs 20 -nfs 110 -cellw 90% -T\n"
   ]
  },
  {
   "cell_type": "markdown",
   "metadata": {},
   "source": [
    "##  Graphs and  Matrices\n",
    "---\n",
    "<div class=\"alert alert-info\">\n",
    "A <strong>graph</strong>, $G$, is a collection of nodes, $V$, and edges, $E$, between the nodes.\n",
    "\n",
    "$$ G = (V,\\;E), \\textrm{ where } V = \\{v_1, v_2,\\cdots, v_n \\}, \\textrm{ and }E \\subset V \\times V.\n",
    "$$\n",
    "</div>"
   ]
  },
  {
   "cell_type": "markdown",
   "metadata": {},
   "source": [
    "### Adjacency Matrix\n",
    "---\n",
    "\n",
    "#### Directed Graphs\n",
    "\n",
    "The **adjacency matrix** of a directed graph, \n",
    "$$A = \\left[a_{ij}\\right]_{n\\times n} \\textrm{ where } a_{ij}= \\begin{cases}1, \\quad  (i,\\,j) \\in E \\\\ 0,\\quad \\textrm{ otherwise } \\end{cases}$$\n",
    "where $(i,\\, j)$ denotes an edge from node $i$ to node $j$. \n",
    "\n",
    "<img src=\"https://live.staticflickr.com/65535/53998598308_45924602a1_c.jpg\" width='80%' />\n",
    "\n",
    "     \n",
    " \n"
   ]
  },
  {
   "cell_type": "markdown",
   "metadata": {},
   "source": [
    "#### Undirected Graphs\n",
    "\n",
    "The **adjacency matrix** of an undirected graph, \n",
    "<img src=\"https://live.staticflickr.com/65535/53998684419_1c30139bc3_c.jpg\" width='80%' />\n",
    " \n",
    "\n",
    "\n",
    ">- **Note**: the adjacency matrix of an undirected graph is symmetric as $a_{ij} = a_{ji}$."
   ]
  },
  {
   "cell_type": "markdown",
   "metadata": {},
   "source": [
    "#### Edge-weighted Graphs\n",
    "\n",
    "**Weighted adjacency matrix** has some numerical weights for every edge in the (weighted) graph.\n",
    "\n",
    "<img src=\"https://live.staticflickr.com/65535/53998598293_6485ee9a75_z.jpg\" width='80%' />"
   ]
  },
  {
   "cell_type": "markdown",
   "metadata": {},
   "source": [
    "### Degree Matrix\n",
    "\n",
    "The **degree** of a node is the number of edges beginning (out-degree) or terminating (in-degree) at the node.\n",
    "\n",
    "The degree matrix $D$ of an undirected graph is a diagonal matrix where the diagonal entries $D_{kk}$ indicate the degree of the $k$-th nodes.\n",
    "\n",
    "<img src=\"https://live.staticflickr.com/65535/53998360201_d4b068aeb9_z.jpg\" width='70%' />\n",
    "\n",
    "It should be noted that\n",
    "$$\n",
    "D = \\text{diag}(A\\mathbf{e}),\\quad \\text{ where }\\quad \\mathbf{e} = (1,1,\\cdots,1)^T.\n",
    "$$\n",
    "\n",
    "So $A\\mathbf{e} = (4,\\,2,\\,5,\\,2,\\,3,\\,2)^T$ is the vector of all the degrees of all the nodes\n"
   ]
  },
  {
   "cell_type": "markdown",
   "metadata": {},
   "source": [
    "<div class=\"alert alert-block alert-success\">\n",
    "<strong>Proposition (Elden p107)</strong> The entries of the $m$-th power of the adjacency matrix $A$ of a simple graph, $[A^m]_{ij}$ is the number of different paths of length $m$ from vertices $i$ to $j$.\n",
    "</div>\n",
    "<br>\n",
    "\n",
    "An unweighted, undirected graph is called a **simple graph** if it has no self-loops and no multiple edges between any pair of nodes."
   ]
  },
  {
   "cell_type": "markdown",
   "metadata": {},
   "source": [
    "### Basic Terminology in Graph Theory\n",
    "\n",
    "| Term    | Meaning and Explanation   |\n",
    "| ----------- | ----------- |\n",
    "| Loop    | An edge from a node to itself.  |\n",
    "| Degree of a vertex   | Number of edges on a node.    |\n",
    "| Path  | A sequence of adjacent nodes joined by edges. |\n",
    "| Walk  | A path that does not repeat nodes.   |\n",
    "| Circuit  | A path that starts and ends at the same node.   |\n",
    "| Cycle   | A circuit without any repeatation of nodes.  |\n",
    "| Bridge   | An edge whose removal makes a graph disconnected or increases the number disconnected components.|\n",
    "| Tree   | A connected undirected graph without any cycles.   |\n",
    "| Spanning Tree   | A subgraph(tree) of a graph that includes every node of the graph.   |\n",
    "| Euler Path   | A path that passes through every edge of a connected graph.   |"
   ]
  },
  {
   "cell_type": "markdown",
   "metadata": {},
   "source": [
    "### Graphs Isomorphism\n",
    "---\n",
    "Two graphs $G_1(V_1,\\, E_1)$ and $G_2(V_2,\\, E_2)$ are isomorphic if there exists a bijective mapping mapping $\\phi: V_1 \\to V_2$ such that the edge $(v_i,\\, v_j) \\in E_1$ if and only if the edge $(\\phi(v_i),\\, \\phi(v_j)) \\in E_2$.\n",
    "\n",
    "<img src=\"https://live.staticflickr.com/65535/53998598343_751366d6c5_z.jpg\" width=\"80%\" />\n",
    "<br>\n",
    "<div class=\"alert alert-success\">\n",
    "<strong>Example</strong>: If $A$ is the adjacency matrix of a graph,  then what does $PAP^T$ represent?\n",
    "</div>\n",
    "<br>\n",
    "<div style=\"display:\">ANSWER: This amounts to relabeling of the nodes of the graph(<strong>Graph-isomorphism</strong>).</div>\n",
    "\n",
    "<br>"
   ]
  },
  {
   "cell_type": "markdown",
   "metadata": {},
   "source": [
    "### Incidence Matrix\n",
    "[See Science Direct](https://www.sciencedirect.com/topics/mathematics/incidence-matrix)\n",
    "\n",
    "The incidence matrix of a directed graph with $m$ nodes and $n$ edges is a rectangular matrix $C \\in \\mathbb{R}^{m \\times n}$ where rows stand for nodes and columns stand for edges. Consider the column $C_j$ for $E_j=(v_{i_1},\\; v_{i_2})$ , then we have $C_{i_1,j}=-1$, $C_{i_2,j}=1$ whereas $C_{i,j}=0$ for $i \\ne i_1 \\ne i_2$.\n",
    "\n",
    "**Example**:\n",
    "\n",
    "|Graph| Incidence Matrix, $C$ |\n",
    "|---|---|\n",
    "|<img src=\"https://live.staticflickr.com/65535/53997468812_b6ee3c7b9b_w.jpg\" width=60%/>|$$\n",
    "C = \\begin{pmatrix}\n",
    "-1 & 0 &  -1 &  0 &  -1 &  0 & 0 & 0 & 0\\\\\n",
    "1 & -1 &  0 &  0 &  0 &  0 & 0 & 0 & 0\\\\\n",
    "0 & 1 &  0 &  1 &  0 &  0 & 0 & -1 & 0\\\\\n",
    "0 & 0 &  1 &  -1 &  0 &  -1 & -1 & 0 & 0\\\\\n",
    "0 & 0 &  0 &  0 &  1 &  1 & 0 & 0 & -1\\\\\n",
    "0 & 0 &  0 &  0 &  0 &  0 & 1 & 1 & 1\n",
    "\\end{pmatrix}\n",
    "$$|"
   ]
  },
  {
   "cell_type": "markdown",
   "metadata": {},
   "source": [
    "<div class=\"alert alert-info\">\n",
    "<strong>Example</strong>: Find the graph whose incidence matrix is given below.\n",
    "<br>\n",
    "$$\n",
    "C = \\begin{pmatrix}\n",
    "-1 & 0 &  0 &  0 &  0 &  1 \\\\\n",
    " 1 & -1 &  0 & 0 &  0 &  0 \\\\\n",
    " 0 &  1 & -1 & 0 & 0 &  0 \\\\\n",
    " 0 &  0 &  1 &  -1 &  0 & 0 \\\\\n",
    " 0 &  0 &  0 &  1 &  -1 & 0 \\\\\n",
    " 0 &  0 &  0 &  0 &  1 & -1 \\\\\n",
    "\\end{pmatrix}\n",
    "$$\n",
    "</div>"
   ]
  },
  {
   "cell_type": "markdown",
   "metadata": {},
   "source": [
    "### Connectedness and Reducibility\n",
    "---\n",
    "An undirected graph is **connected** if there is no subgraph isolated from the rest of the graph. This means one can traverse from any node to any other node.\n",
    "<br>\n",
    "\n",
    "A symmetric matrix $A$ is called **reducible** if there exists a permutation matrix $P$ such that $PAP^T$ is **block-diagonal**.\n",
    "$$\n",
    "PAP^T = \n",
    "\\begin{pmatrix}\n",
    "A_1 & 0\\\\\n",
    "0 & A_2\n",
    "\\end{pmatrix}\n",
    "$$\n",
    "In the absence of such a permutation matrix, the matrix $A$ is called, **irreducible**.\n",
    "<div class=\"alert alert-success\">\n",
    "<strong>Proposition 10.2 (Elden)</strong>: An undirected graph is connected if and only of its adjacency matrix is irreducible.\n",
    "</div>"
   ]
  },
  {
   "cell_type": "markdown",
   "metadata": {},
   "source": [
    "A general square matrix $A$ is called **reducible** if there exists a permutation matrix $P$ such that $PAP^T$ is **block-upper-triangular**, i.e., there exist matrices $X$, $Y$ and $Z$ such that\n",
    "$$\n",
    "PAP^T = \n",
    "\\begin{pmatrix}\n",
    "X & Y\\\\\n",
    "0 & Z\n",
    "\\end{pmatrix}\n",
    "$$\n",
    "In the absence of such a permutation matrix, the matrix $A$ is called, **irreducible**.\n",
    "\n",
    "<div class=\"alert alert-success\">\n",
    "<strong>Proposition</strong>: A directed graph is <em>strongly connected</em> if and only if its adjacency matrix is irreducible.\n",
    "</div>"
   ]
  },
  {
   "cell_type": "markdown",
   "metadata": {},
   "source": [
    "## Graph Laplacian and Properties\n",
    "---\n",
    "\n",
    "<div class=\"alert alert-warning\">\n",
    "<strong>Laplacian</strong> of a simple graph (unweighted, undirected, no self-loops, no multi-edges) is defined as a square matrix, $L = D-A$, where $D$ is the diagonal matrix made of the degree of each node, and $A$ is the adjacency matrix.\n",
    "<br>\n",
    "\n",
    "$$\\large\n",
    "L_{ij} := \\begin{cases}\n",
    "  \\deg(v_i) & \\mbox{if}\\ i = j \\\\\n",
    "         -1 & \\mbox{if}\\ i \\neq j\\ \\mbox{and}\\ v_i \\mbox{ is adjacent to } v_j \\\\\n",
    "          0 & \\mbox{otherwise}\n",
    "\\end{cases}\n",
    "$$\n",
    "</div>\n",
    "\n",
    "**Example**\n",
    "\n",
    "|Graph| Degree Matrix, $D$ | Adjacency Matrix, $A$ | Laplacian, $L=D-A$ |\n",
    "|---| --- | --- | --- |\n",
    "| <img src=\"https://live.staticflickr.com/65535/53998684444_a58dbfe87a_w.jpg\" width='70%' /> | \\begin{pmatrix}\n",
    "3 & 0 &  0 &  0 &  0 &  0 \\\\\n",
    " 0 & 2 &  0 & 0 &  0 &  0 \\\\\n",
    " 0 &  0 & 3 & 0 & 0 &  0 \\\\\n",
    " 0 &  0 &  0 &  4 &  0 & 0 \\\\\n",
    " 0 &  0 &  0 &  0 &  3 & 0 \\\\\n",
    " 0 &  0 &  0 &  0 &  0 & 3\n",
    "\\end{pmatrix} | \\begin{pmatrix}\n",
    "0 & 1 &  0 &  1 &  1 &  0 \\\\\n",
    " 1 & 0 &  1 & 0 &  0 &  0 \\\\\n",
    " 0 &  1 & 0 & 1 & 0 &  1 \\\\\n",
    " 1 &  0 &  1 &  0 &  1 & 1 \\\\\n",
    " 1 &  0 &  0 &  1 &  0 & 1 \\\\\n",
    " 0 &  0 &  1 &  1 &  1 & 0 \n",
    "\\end{pmatrix} | \\begin{pmatrix}\n",
    "3 & -1 &  0 &  -1 &  -1 &  0 \\\\\n",
    " -1 & 2 &  -1 & 0 &  0 &  0 \\\\\n",
    " 0 &  -1 & 3 & -1 & 0 &  -1 \\\\\n",
    " -1 &  0 &  -1 &  4 &  -1 & -1 \\\\\n",
    " -1 &  0 &  0 &  -1 &  3 & -1 \\\\\n",
    " 0 &  0 &  -1 &  -1 &  -1 & 3 \n",
    "\\end{pmatrix} |"
   ]
  },
  {
   "cell_type": "markdown",
   "metadata": {},
   "source": [
    "<div class=\"alert alert-info\">\n",
    "<strong>Homework</strong>: Verify the following where $L$ is the Laplacian (in undirected sense) and $C$ is the <strong>oriented incidence matrix</strong> of some simple graph:\n",
    "$$ L  = CC^T$$\n",
    "</div>\n",
    "\n",
    "\n",
    "\n",
    "<br>"
   ]
  },
  {
   "cell_type": "markdown",
   "metadata": {},
   "source": [
    "<div class=\"alert alert-success\">\n",
    "<strong>Normalized Laplacian</strong>:\n",
    "A symmetric normalized form of Laplacian matrix is given by\n",
    "\n",
    "$$\\large\n",
    "L_N := D^{-\\frac{1}{2}} L D^{-\\frac{1}{2}} = I - D^{-\\frac{1}{2}} A D^{-\\frac{1}{2}}.\n",
    "$$\n",
    "The elements of  $L_N$ are given by\n",
    "\n",
    "$$\n",
    "[L_N]_{ij} := \n",
    "\\begin{cases}\n",
    "                                     1 & \\mbox{if } i = j \\mbox{ and } \\deg(v_i) \\neq 0\\\\\n",
    "  -\\frac{1}{\\sqrt{\\deg(v_i)\\deg(v_j)}} & \\mbox{if } i \\neq j \\mbox{ and }(i,\\, j) \\in E\\\\\n",
    "                                     0 & \\mbox{otherwise}.\n",
    "\\end{cases}\n",
    "$$\n",
    "</div>\n",
    "\n",
    "**Note that** \n",
    "\n",
    ">- $D^{1/2}e$ is an eigenvector of $L_N$ associated with eigenvalue 0.\n",
    "\n",
    ">- A symmetric diagonally dominant matrix $A$ with real non-negative  entries on the diagonal is positive semidefinite. See Gershgorin's Circle Theorem."
   ]
  },
  {
   "cell_type": "markdown",
   "metadata": {},
   "source": [
    "\n",
    "<div class=\"alert alert-success\">\n",
    "<strong>Lemma 10.3 (Elden)</strong>: The eigenvalues of $L_N$ are all nonnegative real numbers.\n",
    "</div>"
   ]
  },
  {
   "cell_type": "markdown",
   "metadata": {},
   "source": [
    "<div class=\"alert alert-info\">\n",
    "<strong>Spectral Properties</strong>: Prove the following statements about the Laplacian $L = D-A$.\n",
    "<li> $L$ is symmetric and positive semi-definite.</li>\n",
    "<li> $0=\\lambda_1 \\le \\lambda_2 \\le \\cdots \\le \\lambda_{n}$</li>\n",
    "<li> Sum of every row and column is zero.</li>\n",
    "<li> $L$ has at least one zero eigenvalue implying singularity.</li>\n",
    "<li> The dimension of the null-space of $L$ gives the total number of connected components in the graph.</li>\n",
    "<li> trace$(L)=2m$, where $m$ is the number of edges.</li>\n",
    "</div>\n",
    "\n",
    "(See Elden)"
   ]
  },
  {
   "cell_type": "markdown",
   "metadata": {},
   "source": [
    "**Example** Find the eigenvalues of the Laplacian of the following. Plot the first three eigenvectors. Experiment with removal of bridges. What do you observe?\n",
    "<br>\n",
    "<img src=\"https://live.staticflickr.com/65535/53998789925_1bfcd52b2c_b.jpg\" width=\"100%\" />\n",
    "<br>"
   ]
  },
  {
   "cell_type": "code",
   "execution_count": 2,
   "metadata": {},
   "outputs": [],
   "source": [
    "A = np.array([[0,1,0,1,0,0,0,0,0,0,0,0,0,0,0,0],\n",
    "               [1,0,1,0,0,0,0,0,0,0,0,0,0,0,0,0],\n",
    "               [0,1,0,1,1,0,0,0,0,0,0,0,0,0,0,0],\n",
    "               [1,0,1,0,0,0,0,0,0,0,0,0,0,0,0,0],\n",
    "               [0,0,1,0,0,1,0,0,0,1,1,0,0,0,0,0],\n",
    "               [0,0,0,0,1,0,1,0,1,0,0,0,0,0,0,0],\n",
    "               [0,0,0,0,0,1,0,1,0,0,0,0,0,0,0,0],\n",
    "               [0,0,0,0,0,0,1,0,1,0,0,1,0,0,0,0],\n",
    "               [0,0,0,0,0,1,0,1,0,1,0,0,0,0,0,0],\n",
    "               [0,0,0,0,1,0,0,0,1,0,1,0,0,0,0,0],\n",
    "               [0,0,0,0,1,0,0,0,0,1,0,0,0,0,0,0],\n",
    "               [0,0,0,0,0,0,0,1,0,0,0,0,1,1,0,1],\n",
    "               [0,0,0,0,0,0,0,0,0,0,0,1,0,1,0,1],\n",
    "               [0,0,0,0,0,0,0,0,0,0,0,1,1,0,1,0],\n",
    "               [0,0,0,0,0,0,0,0,0,0,0,0,0,1,0,1],\n",
    "               [0,0,0,0,0,0,0,0,0,0,0,1,1,0,1,0],\n",
    "              ], dtype=float)\n",
    "greenA = np.copy(A)\n",
    "\n",
    "redA =np.copy(A); redA[2,4]=0; redA[4,2] = 0; redA[7,11]=0; redA[11,7]=0\n",
    "\n",
    "blueA = np.copy(A); blueA[7,11]=0; blueA[11,7] = 0\n",
    "\n",
    "orangeA = np.copy(A); orangeA[4,2]=0; orangeA[2,4]=0"
   ]
  },
  {
   "cell_type": "code",
   "execution_count": 7,
   "metadata": {},
   "outputs": [
    {
     "name": "stdout",
     "output_type": "stream",
     "text": [
      "The eigenvalues of L upon sorting:\n",
      "\n",
      " [-0.00 -0.00 0.00 0.75 2.00 2.00 2.00 2.20 2.45 3.00 3.55 3.80 4.00 4.00\n",
      " 5.00 5.25]\n"
     ]
    },
    {
     "data": {
      "image/png": "[encoded data removed]",
      "text/plain": [
       "<Figure size 432x288 with 1 Axes>"
      ]
     },
     "metadata": {
      "needs_background": "light"
     },
     "output_type": "display_data"
    },
    {
     "data": {
      "image/png": "[encoded data removed]",
      "text/plain": [
       "<Figure size 1080x360 with 3 Axes>"
      ]
     },
     "metadata": {
      "needs_background": "light"
     },
     "output_type": "display_data"
    }
   ],
   "source": [
    "np.set_printoptions(formatter={'float': lambda x: \"{0:0.2f}\".format(x)})\n",
    "A1 = redA\n",
    "L = np.diag(A1 @ np.ones((16,)))-A1\n",
    "\n",
    "l,v = np.linalg.eig(L)\n",
    "evals = np.sort(l)\n",
    "indices = np.argsort(l)\n",
    "print(\"The eigenvalues of L upon sorting:\\n\\n\",evals)\n",
    "fig1 = plt.plot(np.sort(l),'+b')\n",
    "plt.title(\"Eigenvalues of L\\n\")\n",
    "plt.show()\n",
    "\n",
    "\n",
    "fig, axs = plt.subplots(1, 3, figsize=(15, 5), sharey=True)\n",
    "axs[0].plot(v[:,indices[0]],'.r')\n",
    "axs[0].set_xlabel(\"\\n First Eigenvector\")\n",
    "axs[1].plot(v[:,indices[1]],'.b')\n",
    "axs[1].set_xlabel(\"\\n Second Eigenvector\")\n",
    "axs[2].plot(v[:,indices[2]],'.g')\n",
    "axs[2].set_xlabel(\"\\n Third Eigenvector\")\n",
    "fig.suptitle('Plots of the first three eigenvectors')\n",
    "\n",
    "plt.show()"
   ]
  },
  {
   "cell_type": "markdown",
   "metadata": {},
   "source": [
    "<br>\n",
    "<img src=\"https://live.staticflickr.com/65535/53998789925_1bfcd52b2c_b.jpg\" width=\"100%\" />\n",
    "<br>\n",
    "<div class=\"alert alert-success\">\n",
    "<strong>Proposition 10.4 (Elden)</strong> Assume that an undirected graph is connected. Then the second smallest eigenvalue $\\lambda_2$ of its normalized Laplacian $L_N $is positive.\n",
    "</div>"
   ]
  },
  {
   "cell_type": "markdown",
   "metadata": {},
   "source": [
    "#### Some salient points about $L$\n",
    ">- Spectral Gap: the smallest non-zero eigenvalue of $L$.\n",
    ">- Algebraic connectivity (or Fiedler value) of the graph: the second smallest eigenvalue  $\\lambda_2$ of $L$ (related with the **sparsest cut** of the graph). The corresponding eigenvector is called Fiedler vector.\n",
    ">- $L$ is a block diagonal matrix if the graph has multiple connected components (upons possible relabeling of vertices).\n",
    "\n",
    "\"The **sparsest cut problem** is to bipartition the vertices so as to minimize the ratio of the number of edges across the cut divided by the number of vertices in the smaller half of the partition. This objective function favors solutions that are both sparse (few edges crossing the cut) and balanced (close to a bisection).\"--WikiPedia\n",
    "\n",
    "**Example**: Pick up the dashed curve (A, B, C) that you think will provide us the sparser cut.\n",
    "<img src=\"https://live.staticflickr.com/65535/53997467232_e51caee17a_w.jpg\" width=50%>\n",
    "\n",
    "\n",
    "\n",
    "\n",
    "\n"
   ]
  },
  {
   "cell_type": "markdown",
   "metadata": {},
   "source": [
    "**Partitioning Problem**: Finding a subgraph $\\mathcal{S}$ of a graph $G$, satisfying $m\\leq vol(\\mathcal{S})\\leq vol(\\mathcal{S}^c)$, where $m$ is some positive number, such that the edge boundary contains as few edges as possible. Here $vol(\\mathcal{S})$ means the sum of the degrees of the vertices in $\\mathcal{S}$, and $m$ is some fixed number.\n",
    "\n",
    "**Conductance**   $\\psi(\\mathcal{S})$ of a partitioning,\n",
    "\n",
    "$$\n",
    "\\psi(\\mathcal{S}) = \\frac{|E(\\mathcal{S}, \\mathcal{S}^c)|}{\\text{min}\\{vol(\\mathcal{S}),vol(\\mathcal{S}^c)\\}}\n",
    "$$\n",
    "\n",
    "**Examples** Find the conductance of the partitionings by the three cuts given by the dashed lines in the graph above.\n",
    "\n",
    "\n",
    "**Conductance of a graph**\n",
    "\n",
    "$$\n",
    "\\psi_G = \\text{min}\\;{ \\psi(\\mathcal{S})}\n",
    "$$\n",
    "<div class=\"alert alert-danger\">\n",
    "    The problem of determining the conductance of a graph, for finding an optimal partitioning, has high computational complexity. This is an NP-hard problem.\n",
    "    </div>\n",
    "\n",
    "The Cheeger inequalities provides a connection between the Fiedler value and the conductance of a graph. \n",
    "<div class=\"alert alert-success\">\n",
    "<strong>Theorem 10.6 (Cheeger Inequality)</strong> The Fiedler value $\\lambda_2$ of a connected graph satisfies \n",
    "    $$\n",
    "    \\frac{1}{2}\\psi_G^2 < \\lambda_2 \\leq 2 \\psi_G\n",
    "    $$\n",
    "</div>\n",
    "\n",
    "For proof, see the text by Elden and the references therein.\n",
    "\n",
    "<div class=\"alert alert-warning\">\n",
    "<strong>Corollary</strong>: The conductance of a connected graph could be small if and only if the Fiedler value $\\lambda_2$ is small.\n",
    "    </div>"
   ]
  },
  {
   "cell_type": "markdown",
   "metadata": {},
   "source": [
    "#### Eigenvalues of graph Laplacian: An example\n",
    "---\n",
    "Check the number of zero eigenvalues and the number of connected components in this graph.\n",
    "\n",
    "<img src=\"https://miro.medium.com/max/1400/1*p2vrLlFxdJgGZxCGO5WBmA.gif\" width='70%'>\n",
    "\n",
    "[Image Credit](https://miro.medium.com/max/1400/1*p2vrLlFxdJgGZxCGO5WBmA.gif)"
   ]
  },
  {
   "cell_type": "markdown",
   "metadata": {},
   "source": [
    "---"
   ]
  },
  {
   "cell_type": "markdown",
   "metadata": {},
   "source": [
    "### Applications of Spectral Graphs Theory\n",
    "\n",
    "---\n",
    "<br>\n",
    "\n",
    "#### Application: Google Page Ranking (Look at the other notebook on page-ranking.)\n",
    "\n",
    "Continued on iPad.\n",
    "\n",
    "Reference 1: Numerical Linear Algebra in Data Mining-[Elden](http://www.cato.tzo.com/brad_bbk/teaching/datamining/research_surveys/elden.pdf), Page 40-46.\n",
    "\n",
    "Reference 2: Please see [this link](https://rstudio-pubs-static.s3.amazonaws.com/239261_8a607707294341c4b7e26acf728c28bd.html) on power iteration and page-rank.\n",
    "\n",
    "---\n",
    "\n",
    "**Power-iteration** [WikiPedia](https://en.wikipedia.org/wiki/Power_iteration)\n",
    "\n",
    "An iterative algorithm to find the dominant eigenvalue and associated eigenvector of certain matrices.\n",
    "\n",
    "Start with a random initialization $v_0$ repeat until convergence\n",
    "\n",
    "$$\\large\n",
    "v_{k+1} = \\frac{Av_k}{\\|Av_k\\|} ;\\qquad \\lambda_{k} = \\frac{v_{k+1}Av_{k}}{v_{k+1}v_{k}}\n",
    "$$\n",
    "\n",
    "Necessary and sufficient condition for convergence\n",
    ">1. The dominant eigenvalue must  be larger than every other eigenvalue in magnitude. rate of convergence is proportional to $|\\lambda_2/\\lambda_1|$\n",
    ">2. The initialization $v_0$ must have a nonzero component along the eigenvector associated with the dominant eigenvalue."
   ]
  },
  {
   "cell_type": "code",
   "execution_count": 64,
   "metadata": {},
   "outputs": [],
   "source": [
    "import numpy as np\n",
    "def power_method(A, max_iter):\n",
    "    v_old = np.random.rand(A.shape[1]) # Why should you choose randomly\n",
    "    #csrA = csr_matrix(A)\n",
    "    for k in range(max_iter):\n",
    "        v_new = A.dot(v_old)\n",
    "\n",
    "        # Need to normalize\n",
    "        v_new = v_new / np.linalg.norm(v_new)\n",
    "        # Test for convergence\n",
    "        v_old = v_new\n",
    "        \n",
    "    evalue = np.dot(v_new,A.dot(v_new))/np.linalg.norm(v_new)\n",
    "    return v_new, evalue"
   ]
  },
  {
   "cell_type": "code",
   "execution_count": 65,
   "metadata": {},
   "outputs": [
    {
     "data": {
      "text/plain": [
       "(array([0.61541221, 0.78820544]), 0.856155281280883)"
      ]
     },
     "execution_count": 65,
     "metadata": {},
     "output_type": "execute_result"
    }
   ],
   "source": [
    "power_method(np.array([[0.6, 0.2], [0.2, 0.7]]), 100)"
   ]
  },
  {
   "cell_type": "markdown",
   "metadata": {},
   "source": [
    "### QR Algorithm for Eigenvalues and eigenvectors\n",
    "---\n",
    ">- Step 1: Intialize: $A_0 = A$\n",
    ">- Step 2: Repeat until convergence k=0:MaxIterations\n",
    "    >>-  Find QR decomposition of $A_k = Q_k R_k$\n",
    "    >>-  $A_{k+1} = R_k Q_k$ $\\quad \\left(= Q_k^{-1} Q_k R_k Q_k = Q_k^{-1} A_k Q_k = Q_k^{\\mathsf{T}} A_k Q_k, \\right)$\n",
    "\n",
    "Under certain conditions the above converges to the **Schur Form** of $A = UTU^T$, where $T$ is upper triangular, containing all the eigenvalues on the diagonal element.\n",
    "\n",
    "Improvement: Hessenberg Form, Shifted implicit forms."
   ]
  },
  {
   "cell_type": "code",
   "execution_count": null,
   "metadata": {
    "collapsed": true
   },
   "outputs": [],
   "source": []
  },
  {
   "cell_type": "markdown",
   "metadata": {
    "collapsed": true
   },
   "source": [
    "**ChatGPT**: Provide a list of applications of spectral graph theory in data science\n",
    "\n",
    "Spectral graph theory, which studies properties of a graph in relation to the eigenvalues and eigenvectors of matrices associated with the graph (such as the adjacency matrix or the Laplacian matrix), has numerous applications in data science. Here are some key applications:\n",
    "\n",
    "**Clustering and Community Detection**:\n",
    "\n",
    "Spectral clustering is a popular method for grouping similar data points. It uses the eigenvectors of the graph Laplacian to identify clusters in the data.\n",
    "Community detection in social networks often leverages spectral properties to identify tightly-knit groups within larger networks.\n",
    "\n",
    "**Dimensionality Reduction**:\n",
    "\n",
    "Techniques like Laplacian Eigenmaps and Locally Linear Embedding (LLE) use spectral methods to reduce the dimensionality of data while preserving the intrinsic geometry.\n",
    "\n",
    "**Graph Embedding**:\n",
    "\n",
    "Embedding nodes of a graph into a low-dimensional space using spectral methods helps in tasks like visualization, link prediction, and node classification.\n",
    "\n",
    "**Recommendation Systems**:\n",
    "\n",
    "Spectral methods can enhance collaborative filtering approaches by representing user-item interactions as graphs and analyzing the spectral properties to predict user preferences.\n",
    "\n",
    "**Graph Partitioning**:\n",
    "\n",
    "Spectral bisection and other spectral partitioning techniques are used to divide a graph into parts with minimal edge cuts, useful in load balancing, parallel computing, and network design.\n",
    "\n",
    "**Image Segmentation**:\n",
    "\n",
    "In computer vision, spectral clustering is applied to segment images into regions with similar properties by treating the image as a graph of pixels.\n",
    "Signal Processing on Graphs:\n",
    "\n",
    "Graph signal processing extends classical signal processing techniques to signals defined on graphs, leveraging spectral graph theory for filtering, sampling, and transforming graph signals.\n",
    "\n",
    "**Natural Language Processing**:\n",
    "\n",
    "Spectral methods are used in tasks like word embedding, semantic analysis, and document clustering by representing text data as graphs and analyzing their spectral properties.\n",
    "\n",
    "**Anomaly Detection**:\n",
    "\n",
    "Spectral techniques help detect anomalies in network traffic, financial transactions, and other datasets by identifying deviations from the normal spectral patterns.\n",
    "\n",
    "**Machine Learning**:\n",
    "\n",
    "Spectral methods are used in semi-supervised learning to incorporate the structure of unlabeled data, enhancing the performance of classifiers by leveraging the graph Laplacian.\n",
    "\n",
    "**Network Analysis**:\n",
    "\n",
    "Understanding the robustness, connectivity, and other structural properties of networks through spectral measures like the spectral gap, eigenvalue distribution, and centrality measures.\n",
    "\n",
    "**Quantum Computing**:\n",
    "\n",
    "Spectral graph theory aids in the design and analysis of quantum algorithms, particularly in solving problems like the graph isomorphism problem and quantum walks.\n",
    "\n",
    "\n",
    "These applications illustrate the versatility of spectral graph theory in addressing complex problems in data science by leveraging the deep connections between graph structures and their spectral properties."
   ]
  },
  {
   "cell_type": "code",
   "execution_count": 27,
   "metadata": {},
   "outputs": [
    {
     "data": {
      "text/html": [
       "<style>\n",
       ".eqnbox{\n",
       "    margin:auto;width:500px;padding:20px;\n",
       "    border: 3px solid green; border-radius:15px;margin-top:20px;margin-bottom:20px;\n",
       "}\n",
       ".eqnbox2{\n",
       "    margin:auto;width:500px;padding:20px;\n",
       "    border: 1px solid green; border-radius:15px;margin-top:20px;margin-bottom:20px;\n",
       "}\n",
       ".eqnbox3{\n",
       "    margin:auto;width:700px;padding:20px;background-color:#c6d6b4;\n",
       "    border: 1px solid green; border-radius:15px;margin-top:20px;margin-bottom:20px;\n",
       "}\n",
       "</style>"
      ],
      "text/plain": [
       "<IPython.core.display.HTML object>"
      ]
     },
     "metadata": {},
     "output_type": "display_data"
    }
   ],
   "source": [
    "## PLEASE DISREGARD THE FOLLOWING\n",
    "\n",
    "%%html\n",
    "<style>\n",
    ".eqnbox{\n",
    "    margin:auto;width:500px;padding:20px;\n",
    "    border: 3px solid green; border-radius:15px;margin-top:20px;margin-bottom:20px;\n",
    "}\n",
    ".eqnbox2{\n",
    "    margin:auto;width:500px;padding:20px;\n",
    "    border: 1px solid green; border-radius:15px;margin-top:20px;margin-bottom:20px;\n",
    "}\n",
    ".eqnbox3{\n",
    "    margin:auto;width:700px;padding:20px;background-color:#c6d6b4;\n",
    "    border: 1px solid green; border-radius:15px;margin-top:20px;margin-bottom:20px;\n",
    "}\n",
    "</style>"
   ]
  },
  {
   "cell_type": "code",
   "execution_count": 16,
   "metadata": {},
   "outputs": [
    {
     "name": "stdout",
     "output_type": "stream",
     "text": [
      "Link Matrix:\n",
      " [[0.         0.         1.         0.5       ]\n",
      " [0.33333333 0.         0.         0.        ]\n",
      " [0.33333333 0.5        0.         0.5       ]\n",
      " [0.33333333 0.5        0.         0.        ]]\n",
      "[0.72101012 0.24033671 0.54075759 0.36050506]\n",
      "Pages ranked in the increasing order of importance: [2 4 3 1]\n"
     ]
    }
   ],
   "source": [
    "# Example of page rank 4x4 matrix\n",
    "A = np.array([[0,1/3, 1/3, 1/3],[0, 0, 1/2, 1/2],[1,0,0,0],[1/2,0,1/2,0]],dtype=float).T\n",
    "print(\"Link Matrix:\\n\",A)\n",
    "\n",
    "eVec,_ = power_method(A,100)\n",
    "print(eVec)\n",
    "print(\"Pages ranked in the increasing order of importance:\", np.argsort(eVec)+1)\n"
   ]
  },
  {
   "cell_type": "code",
   "execution_count": 20,
   "metadata": {},
   "outputs": [
    {
     "name": "stdout",
     "output_type": "stream",
     "text": [
      "[[0 0 0 0 0 0 0 0 0 0 0 0 0 0 0 0 0 0 0 0 0 0 0 0 0 0 0 0 0 0 0 0 0 0 0 0 0\n",
      "  0 0 0 0 0 0 0 0 0 0 0 0 0 0 0 0 0 0 0 0 0 0 0]\n",
      " [0 0 0 0 0 0 0 0 0 0 0 0 0 0 0 0 0 0 0 0 0 0 0 0 0 0 0 0 0 0 0 0 0 0 0 0 0\n",
      "  0 0 0 0 0 0 0 0 0 0 0 0 0 0 0 0 0 0 0 0 0 0 0]\n",
      " [0 0 0 0 0 0 0 0 0 0 0 0 0 0 0 0 0 0 0 0 0 0 0 0 0 0 0 0 0 0 0 0 0 0 0 0 0\n",
      "  0 0 0 0 0 0 0 0 0 0 0 0 0 0 0 0 0 0 0 0 0 0 0]]\n",
      "[ 0  0  0  1  1  1  2  2  2  3  3  3  4  4  4  5  5  5  6  6  6  7  7  7  8\n",
      "  8  8  9  9  9 10 10 10 11 11 11 12 12 12 13 13 13 14 14 14 15 15 15 16 16\n",
      " 16 17 17 17 18 18 18 19 19 19 20 20 20 21 21 21 22 22 22 23 23 23 24 24 24\n",
      " 25 25 25 26 26 26 27 27 27 28 28 28 29 29 29 30 30 30 31 31 31 32 32 32 33\n",
      " 33 33 34 34 34 35 35 35 36 36 36 37 37 37 38 38 38 39 39 39 40 40 40 41 41\n",
      " 41 42 42 42 43 43 43 44 44 44 45 45 45 46 46 46 47 47 47 48 48 48 49 49 49\n",
      " 50 50 50 51 51 51 52 52 52 53 53 53 54 54 54 55 55 55 56 56 56 57 57 57 58\n",
      " 58 58 59 59 59]\n"
     ]
    }
   ],
   "source": [
    "rows = np.zeros((3,60),dtype='int') \n",
    "print rows \n",
    "for k in range(60):\n",
    "    rows[:,k] = np.array([[k,k,k]])\n",
    "    \n",
    "row_index = rows.T.flatten()\n",
    "print(row_index)\n",
    "val = np.ones_like(row_index)\n",
    "col_index = "
   ]
  },
  {
   "cell_type": "code",
   "execution_count": 5,
   "metadata": {},
   "outputs": [],
   "source": [
    "!jt -t grade3"
   ]
  },
  {
   "cell_type": "code",
   "execution_count": 3,
   "metadata": {},
   "outputs": [],
   "source": [
    "import numpy as np\n",
    "H = np.array([[1,0,0,0],[0,2/3,-2/3,1/3],[0,-2/3,-1/3,2/3],[0,1/3,2/3,2/3]],dtype='float')"
   ]
  },
  {
   "cell_type": "code",
   "execution_count": 4,
   "metadata": {},
   "outputs": [
    {
     "name": "stdout",
     "output_type": "stream",
     "text": [
      "[[ 1.          0.          0.          0.        ]\n",
      " [ 0.          0.66666667 -0.66666667  0.33333333]\n",
      " [ 0.         -0.66666667 -0.33333333  0.66666667]\n",
      " [ 0.          0.33333333  0.66666667  0.66666667]]\n"
     ]
    }
   ],
   "source": [
    "print(H)"
   ]
  },
  {
   "cell_type": "code",
   "execution_count": 5,
   "metadata": {},
   "outputs": [],
   "source": [
    "A = np.array([[3,4,3,2],[2,1,2,5],[-2,-1,3,2],[1,4,2,5]],dtype='float')"
   ]
  },
  {
   "cell_type": "code",
   "execution_count": 6,
   "metadata": {},
   "outputs": [
    {
     "name": "stdout",
     "output_type": "stream",
     "text": [
      "[[ 3.          4.          3.          2.        ]\n",
      " [ 3.          2.66666667  0.          3.66666667]\n",
      " [ 0.          2.33333333 -1.         -0.66666667]\n",
      " [ 0.          2.33333333  4.          6.33333333]]\n"
     ]
    }
   ],
   "source": [
    "print (H@A)"
   ]
  },
  {
   "cell_type": "code",
   "execution_count": 2,
   "metadata": {},
   "outputs": [
    {
     "name": "stdout",
     "output_type": "stream",
     "text": [
      "Available Themes: \r\n",
      "   chesterish\r\n",
      "   grade3\r\n",
      "   gruvboxd\r\n",
      "   gruvboxl\r\n",
      "   monokai\r\n",
      "   oceans16\r\n",
      "   onedork\r\n",
      "   solarizedd\r\n",
      "   solarizedl\r\n"
     ]
    }
   ],
   "source": [
    "!jt -l"
   ]
  },
  {
   "cell_type": "code",
   "execution_count": 7,
   "metadata": {},
   "outputs": [],
   "source": [
    "list1 = [1,2,3]"
   ]
  },
  {
   "cell_type": "code",
   "execution_count": 8,
   "metadata": {},
   "outputs": [
    {
     "name": "stdout",
     "output_type": "stream",
     "text": [
      "[1, 2, 3, 1, 2, 3, 1, 2, 3]\n"
     ]
    }
   ],
   "source": [
    "print(list1*3)\n",
    "#or use repeat."
   ]
  },
  {
   "cell_type": "code",
   "execution_count": 4,
   "metadata": {},
   "outputs": [],
   "source": [
    "C = np.array([[-1, 0, 1, 1, 0, 0],\n",
    "              [0, 1, -1, 0, 0, 1],\n",
    "              [1, -1, 0, 0, 1, 0],\n",
    "              [0, 0, 0, -1, -1, -1]])"
   ]
  },
  {
   "cell_type": "code",
   "execution_count": 5,
   "metadata": {},
   "outputs": [
    {
     "name": "stdout",
     "output_type": "stream",
     "text": [
      "[[ 3 -1 -1 -1]\n",
      " [-1  3 -1 -1]\n",
      " [-1 -1  3 -1]\n",
      " [-1 -1 -1  3]]\n"
     ]
    }
   ],
   "source": [
    "print(C@C.T)"
   ]
  },
  {
   "cell_type": "code",
   "execution_count": null,
   "metadata": {},
   "outputs": [],
   "source": []
  }
 ],
 "metadata": {
  "kernelspec": {
   "display_name": "Python 3 (ipykernel)",
   "language": "python",
   "name": "python3"
  },
  "language_info": {
   "codemirror_mode": {
    "name": "ipython",
    "version": 3
   },
   "file_extension": ".py",
   "mimetype": "text/x-python",
   "name": "python",
   "nbconvert_exporter": "python",
   "pygments_lexer": "ipython3",
   "version": "3.9.7"
  }
 },
 "nbformat": 4,
 "nbformat_minor": 2
}
