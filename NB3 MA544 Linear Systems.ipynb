{
 "cells": [
  {
   "cell_type": "markdown",
   "metadata": {
    "slideshow": {
     "slide_type": "slide"
    },
    "tags": []
   },
   "source": [
    "## Linear Systems and Iterative Solutions\n",
    "---\n",
    "**Objectives and Plan**\n",
    "\n",
    "1. Linear Systems of Equations and Gaussian Elimination with pivoting\n",
    "1. LU Decomposition of A\n",
    "1. Iterative solution of Linear Systems"
   ]
  },
  {
   "cell_type": "code",
   "execution_count": 41,
   "metadata": {
    "slideshow": {
     "slide_type": "slide"
    }
   },
   "outputs": [],
   "source": [
    "\n",
    "#IMPORT\n",
    "import numpy as np\n",
    "#import matplotlib.pyplot as plt\n",
    "#import matplotlib.image as mpimg\n",
    "#%matplotlib inline\n",
    "\n",
    "#from ipywidgets import interact, interactive, fixed, interact_manual\n",
    "#import ipywidgets as widgets\n",
    "\n",
    "## Set a seed for the random number generator\n",
    "np.random.seed(100)"
   ]
  },
  {
   "cell_type": "markdown",
   "metadata": {
    "slideshow": {
     "slide_type": "slide"
    },
    "tags": []
   },
   "source": [
    "## Linear System of Equations\n",
    "---\n",
    "Consider the following system of $m$ linear equations in $n$ variables.\n",
    "\\begin{align}\n",
    "a_{11} x_1 + a_{12} x_2  + \\cdots + a_{1n} x_n  &= b_1 \\\\\n",
    "a_{21} x_1 + a_{22} x_2  + \\cdots + a_{2n} x_n  &= b_2 \\\\\n",
    " \\vdots \\qquad \\qquad   & \\ \\\\\n",
    "a_{m1} x_1 + a_{m2} x_2  + \\cdots + a_{mn} x_n  &= b_ m,\n",
    "\\end{align}\n",
    "\n",
    "-  The solution of a linear system represents the **point of intersection of hyperplanes** given by the lienar equations.\n",
    "\n",
    "\n",
    "-  The solution also represents the **linear coding of the columns** of a matrix $A$ to get a vector $b$ in the column space ($\\mathcal{C}(A)$).\n",
    " \n",
    "$$\n",
    " x_1 \\begin{pmatrix}a_{11}\\\\a_{21}\\\\ \\vdots \\\\a_{m1}\\end{pmatrix} +\n",
    " x_2 \\begin{pmatrix}a_{12}\\\\a_{22}\\\\ \\vdots \\\\a_{m2}\\end{pmatrix} +\n",
    " \\cdots +\n",
    " x_n \\begin{pmatrix}a_{1n}\\\\a_{2n}\\\\ \\vdots \\\\a_{mn}\\end{pmatrix}\n",
    " =\n",
    " \\begin{pmatrix}b_1\\\\b_2\\\\ \\vdots \\\\b_m\\end{pmatrix}\n",
    " $$\n",
    " \n",
    " or simply as\n",
    " $$\n",
    " x_1 A_{:1}+x_1 A_{:2}+ \\cdots +x_1 A_{:n} = \\mathbf{b}\n",
    " $$\n",
    " \n",
    "\n",
    "- The system could be represented in a compact form as $Ax = b$, where \n",
    " $$\n",
    " A=\n",
    "\\begin{pmatrix}\n",
    "a_{11} & a_{12} & \\cdots & a_{1n} \\\\\n",
    "a_{21} & a_{22} & \\cdots & a_{2n} \\\\\n",
    "\\vdots & \\vdots & \\ddots & \\vdots \\\\\n",
    "a_{m1} & a_{m2} & \\cdots & a_{mn}\n",
    "\\end{pmatrix},\\quad\n",
    "\\mathbf{x}=\n",
    "\\begin{pmatrix}\n",
    "x_1 \\\\\n",
    "x_2 \\\\\n",
    "\\vdots \\\\\n",
    "x_n\n",
    "\\end{pmatrix},\\quad\n",
    "\\mathbf{b}=\n",
    "\\begin{pmatrix}\n",
    "b_1 \\\\\n",
    "b_2 \\\\\n",
    "\\vdots \\\\\n",
    "b_m\n",
    "\\end{pmatrix}\n",
    "$$"
   ]
  },
  {
   "cell_type": "markdown",
   "metadata": {
    "slideshow": {
     "slide_type": "slide"
    }
   },
   "source": [
    "- The system is called...\n",
    "  - **overdetermined** when $m > n$.\n",
    "  - **underdetermined** when $ m < n$."
   ]
  },
  {
   "cell_type": "markdown",
   "metadata": {
    "slideshow": {
     "slide_type": "slide"
    }
   },
   "source": [
    "## Gaussian elimination with scaled-row partial pivoting\n",
    "---\n",
    "  - What is the need for pivoting?\n",
    "  - How can you find a factorization of the matrix by using the following code.\n",
    "  - How can you modify the code to find the determinant of a matrix?\n",
    "  - How can you modify the following code to solve a linear system?\n",
    "  - How can you modify the code to find the inverse of a matrix?\n"
   ]
  },
  {
   "cell_type": "code",
   "execution_count": 42,
   "metadata": {
    "slideshow": {
     "slide_type": "slide"
    }
   },
   "outputs": [],
   "source": [
    "## Gaussian Elimination: Scaled Row Pivoting\n",
    "## This function is based on the pseudo-code on page-148 in the Text by Kincaid and Cheney\n",
    "def GE_srpp(X, verbose=False):\n",
    "    '''\n",
    "    This function returns the P'LU factorization of a square matrix A\n",
    "    by scaled row partial pivoting. \n",
    "    In place of returning L and U, elements of modified A are used to hold values of L and U.\n",
    "    '''\n",
    "    A = np.copy(X)\n",
    "    m,n = A.shape\n",
    "    swap=0;\n",
    "    \n",
    "    # The initial ordering of rows\n",
    "    p = list(range(m))\n",
    "    if verbose:\n",
    "        print(\"permutation vector initialized to: \",p)\n",
    "    \n",
    "    # Scaling vector: absolute maximum elements of each row\n",
    "    s = np.max(np.abs(A), axis=1) \n",
    "    \n",
    "    # Start the k-1 passes of Guassian Elimination on A\n",
    "    for k in range(m-1):              \n",
    "        if verbose:\n",
    "            print(\"Scaling Vector: \",s)\n",
    "        # Find the pivot element and interchange the rows\n",
    "        pivot_index = k + np.argmax(np.abs(A[p[k:], k])/s[p[k:]])        \n",
    "        \n",
    "        # Interchange elements in the permutation vector if needed\n",
    "        if pivot_index !=k:\n",
    "            temp = p[k]\n",
    "            p[k]=p[pivot_index]\n",
    "            p[pivot_index] = temp\n",
    "            swap+=1;\n",
    "                        \n",
    "        if verbose:\n",
    "            print(\"\\nPivot Element: {0:.4f} \\n\".format(A[p[k],k]))\n",
    "        if np.abs(A[p[k],k]) < 10**(-20):\n",
    "             sys.exit(\"ERROR!! Provided matrix is singular or there is a zero pivot.\")        \n",
    "        # Check the new order of rows\n",
    "        if verbose:\n",
    "            print(\"permutation vector: \",p)\n",
    "        # For the k-th pivot row Perform the Gaussian elimination on the following rows\n",
    "        for i in range(k+1, m):\n",
    "            # Find the multiplier\n",
    "            z = A[p[i],k]/A[p[k],k]            \n",
    "            #Save the multiplier z in A itself. You can save this in L also\n",
    "            A[p[i],k] = z          \n",
    "            #Elimination operation: Changes all elements in a row simultaneously\n",
    "            A[p[i],k+1:] = A[p[i],k+1:] - z*A[p[k],k+1:]\n",
    "            \n",
    "        if verbose:\n",
    "            print(\"\\n After PASS {}=========: \\n\".format(k+1), A)\n",
    "    return A, p, swap"
   ]
  },
  {
   "cell_type": "code",
   "execution_count": 43,
   "metadata": {},
   "outputs": [
    {
     "name": "stdout",
     "output_type": "stream",
     "text": [
      "\n",
      " Given A: \n",
      "  [[ 2.  3. -6.]\n",
      " [ 1. -6.  8.]\n",
      " [ 3. -2.  1.]]\n"
     ]
    }
   ],
   "source": [
    "## Example on page number 146 (Kincaid Cheney).\n",
    "## Example solved manually in class\n",
    "A0 = np.array([[2, 3, -6], [1,-6,8], [3, -2, 1]], dtype=float)\n",
    "#A = np.array([[5, 4, 7, 6, 9], [7, 8, 9, 9, 8], [2, 3, 5, 9, 8], [3, 1, 7, 5, 6], [9, 1, 3, 7, 3]], dtype=float)\n",
    "#A0=np.array([[1, 0, 2, 1],[4, -9, 2, 1],[8, 16, 6, 5],[2, 3, 2,1]], dtype=float)\n",
    "print(\"\\n Given A: \\n \",A0)"
   ]
  },
  {
   "cell_type": "code",
   "execution_count": 31,
   "metadata": {},
   "outputs": [],
   "source": [
    "A,p,swap =GE_srpp(A0) #You need to pass a copy, otherwise the original A0 is chaneged.\n",
    "m=A.shape[0]"
   ]
  },
  {
   "cell_type": "code",
   "execution_count": 44,
   "metadata": {},
   "outputs": [
    {
     "name": "stdout",
     "output_type": "stream",
     "text": [
      "\n",
      " After Gaussian Elimination with SRPP: \n",
      " [[ 0.66666667  4.33333333 -6.66666667]\n",
      " [ 0.33333333 -1.23076923 -0.53846154]\n",
      " [ 3.         -2.          1.        ]]\n"
     ]
    }
   ],
   "source": [
    "L = np.tril(A[p,:], -1)+np.eye(n)\n",
    "U = np.triu(A[p,:]) # YOu can solve Ux = b[p] by back substitution\n",
    "P = np.eye(n)[p,:]\n",
    "print(\"\\n After Gaussian Elimination with SRPP: \\n\", A)"
   ]
  },
  {
   "cell_type": "code",
   "execution_count": 47,
   "metadata": {},
   "outputs": [
    {
     "name": "stdout",
     "output_type": "stream",
     "text": [
      "\n",
      " The permutation Vector is: \n",
      " [2, 0, 1]\n",
      "\n",
      " Permutation matrix, P:\n",
      "  [[0. 0. 1.]\n",
      " [1. 0. 0.]\n",
      " [0. 1. 0.]]\n",
      "\n",
      " Upper triangular, U:\n",
      "  [[ 3.         -2.          1.        ]\n",
      " [ 0.          4.33333333 -6.66666667]\n",
      " [ 0.          0.         -0.53846154]]\n",
      "\n",
      " Lower triangular, L:\n",
      " [[ 1.          0.          0.        ]\n",
      " [ 0.66666667  1.          0.        ]\n",
      " [ 0.33333333 -1.23076923  1.        ]]\n",
      "Sanity Check: norm of PA-LU 0.0\n"
     ]
    }
   ],
   "source": [
    "print(\"\\n The permutation Vector is: \\n\", p)\n",
    "print(\"\\n Permutation matrix, P:\\n \", P)\n",
    "print(\"\\n Upper triangular, U:\\n \", U)\n",
    "print(\"\\n Lower triangular, L:\\n\", L)\n",
    "print(\"Sanity Check: norm of PA-LU\",np.linalg.norm(P@A0-L@U))"
   ]
  },
  {
   "cell_type": "code",
   "execution_count": 36,
   "metadata": {},
   "outputs": [
    {
     "name": "stdout",
     "output_type": "stream",
     "text": [
      "[[ 2.  3. -6.]\n",
      " [ 1. -6.  8.]\n",
      " [ 3. -2.  1.]]\n",
      "[[ 2.  3. -6. -1.]\n",
      " [ 1. -6.  8.  3.]\n",
      " [ 3. -2.  1.  2.]]\n",
      "[[ 2.  3. -6.  1.  0.  0.]\n",
      " [ 1. -6.  8.  0.  1.  0.]\n",
      " [ 3. -2.  1.  0.  0.  1.]]\n"
     ]
    }
   ],
   "source": [
    "A0\n",
    "print(A0)\n",
    "b=np.array([-1,3,2], dtype=float).reshape(3,-1)\n",
    "augA = np.hstack((A0,b))\n",
    "print(augA)\n",
    "print(np.hstack((A0,np.eye(3))))"
   ]
  },
  {
   "cell_type": "code",
   "execution_count": 37,
   "metadata": {},
   "outputs": [
    {
     "name": "stdout",
     "output_type": "stream",
     "text": [
      "[1. 1. 1.]\n"
     ]
    }
   ],
   "source": [
    "newA,p,swap = GE_srpp(augA)\n",
    "newU = np.triu(newA[p,:3])\n",
    "newb = newA[p,3]\n",
    "print(back_sub(newU, newb))"
   ]
  },
  {
   "cell_type": "code",
   "execution_count": null,
   "metadata": {},
   "outputs": [],
   "source": []
  },
  {
   "cell_type": "code",
   "execution_count": 35,
   "metadata": {},
   "outputs": [
    {
     "name": "stdout",
     "output_type": "stream",
     "text": [
      "The Permutation Matrix, P:\n",
      " [[0. 0. 1.]\n",
      " [1. 0. 0.]\n",
      " [0. 1. 0.]]\n",
      "Error Norm \n",
      " 0.0\n",
      "[[ 3. -2.  1.]\n",
      " [ 2.  3. -6.]\n",
      " [ 1. -6.  8.]]\n",
      "[[ 3. -2.  1.]\n",
      " [ 2.  3. -6.]\n",
      " [ 1. -6.  8.]]\n"
     ]
    }
   ],
   "source": [
    "print(\"The Permutation Matrix, P:\\n\",P)\n",
    "print(\"Error Norm \\n\", np.linalg.norm(np.dot(L,U) - np.dot(P,A0)))\n",
    "print(np.dot(L,U))\n",
    "print(np.dot(P,A0))"
   ]
  },
  {
   "cell_type": "markdown",
   "metadata": {},
   "source": [
    "### LU Factorization \n",
    "---\n",
    "One can use the Gaussian elimination with partial pivoting to decompose the matrix A as follows\n",
    "$$\n",
    "P A = L U,\\text{ or }\\ A = P^T L U;\n",
    "$$\n",
    "where $P$ is a permutation matrix, $L$ is a unit lower-triangular matrix and $U$ is an upper triangular matrix."
   ]
  },
  {
   "cell_type": "code",
   "execution_count": 19,
   "metadata": {},
   "outputs": [
    {
     "name": "stdout",
     "output_type": "stream",
     "text": [
      "\n",
      " Upper triangular, U:\n",
      "  [[ 3.         -2.          1.        ]\n",
      " [ 0.          4.33333333 -6.66666667]\n",
      " [ 0.          0.         -0.53846154]]\n",
      "\n",
      " Lower triangular, L:\n",
      " [[ 1.          0.          0.        ]\n",
      " [ 0.66666667  1.          0.        ]\n",
      " [ 0.33333333 -1.23076923  1.        ]]\n",
      "The Permutation Matrix, P:\n",
      " [[0. 0. 1.]\n",
      " [1. 0. 0.]\n",
      " [0. 1. 0.]]\n"
     ]
    }
   ],
   "source": [
    "print(\"\\n Upper triangular, U:\\n \", np.triu(A[p,:]))\n",
    "print(\"\\n Lower triangular, L:\\n\", np.tril(A[p,:], -1)+np.eye(3))\n",
    "print(\"The Permutation Matrix, P:\\n\",np.eye(3)[p,:])"
   ]
  },
  {
   "cell_type": "markdown",
   "metadata": {},
   "source": [
    "### Back-substitution\n",
    "---\n",
    "One can solve a square linear system with upper triangular structure (REF) $$U{\\bf x} = {\\bf b} $$ by using back-substitution, where \n",
    "$$\n",
    "U = \\begin{bmatrix}\n",
    "  u_{1,1} & u_{1,2} & u_{1,3} & \\ldots &   u_{1,n} \\\\\n",
    "        0  & u_{2,2} & u_{2,3} & \\ldots &   u_{2,n} \\\\\n",
    "        \\vdots  &  \\vdots       &  \\ddots & \\ddots &    \\vdots \\\\\n",
    "        0  &    0     &     \\cdots    & u_{n-1,n-1} & u_{n-1,n} \\\\\n",
    "        0 &     0    &   \\cdots      &   \\cdots     &   u_{n,n}\n",
    "\\end{bmatrix}\n",
    "$$\n",
    "The backward substitution algorithm finds the unknowns starting from the last $x_n$ to the first $x_1$.\n",
    "$$\n",
    "\\begin{align}\n",
    "  x_n &= \\frac{b_n}{u_{n,n}}, \\\\\n",
    "  x_{n-1} &= \\frac{b_2 - u_{n-1,n} x_n}{u_{n-1,n-1}}, \\\\\n",
    "      &\\ \\ \\vdots \\\\\n",
    "  x_k &= \\frac{b_k - \\sum\\limits_{i=n, step = -1}^{k+1} u_{k,i}x_i}{u_{k,k}}.\n",
    "\\end{align}\n",
    "$$"
   ]
  },
  {
   "cell_type": "code",
   "execution_count": 17,
   "metadata": {},
   "outputs": [],
   "source": [
    "# In the following function A is supposed to be upper triangular systems UX=b\n",
    "def back_sub(A, b):\n",
    "    n = A.shape[0]\n",
    "    #Solution will be saved in variable x\n",
    "    x = np.zeros_like(b, dtype=float)\n",
    "\n",
    "    # Back-substitution\n",
    "    ##last variable is found first\n",
    "    x[n-1] = b[n-1] / A[n-1,n-1]\n",
    "    ## Find the remaining n-1 variables from last to first\n",
    "    for k in range(n-2,-1,-1):\n",
    "        known_sums = np.dot(A[k,k+1:],x[k+1:])\n",
    "        x[k] = (b[k] - known_sums) / A[k,k]\n",
    "    return x"
   ]
  },
  {
   "cell_type": "markdown",
   "metadata": {},
   "source": [
    "**Example** Solve the following upper triangular system\n",
    "$$\n",
    "\\begin{pmatrix}\n",
    "1 & 2 & 3 & 1\\\\\n",
    "0 & 4 & 5 &3\\\\\n",
    "0 & 0 & 6 & 2\\\\\n",
    "0 & 0 & 0& 5\n",
    "\\end{pmatrix}\n",
    "\\begin{pmatrix}\n",
    "x_1\\\\x_2\\\\x_3\\\\x_4\n",
    "\\end{pmatrix} = \\begin{pmatrix}\n",
    "7\\\\12\\\\8\\\\5\n",
    "\\end{pmatrix}\n",
    "$$\n",
    "By using backsubstitution \n",
    "\n",
    "$x_4 = b_1/u_{11} =5/5 1$, \n",
    "\n",
    "$x_3 = (8 - 2x_4)/u_{22}= (8 - 2(1))/6=1$, \n",
    "\n",
    "$x_2=(12-5x_3-3x_4)/u_{33}=(12-5(1)-3(1))/4=1$, \n",
    "\n",
    "$x_1 = (7 - 2x_2-3x_3-1x_4)/u_{11}= (7 - 2(1)-3(1)-1(1))/1=1$."
   ]
  },
  {
   "cell_type": "code",
   "execution_count": 14,
   "metadata": {},
   "outputs": [
    {
     "name": "stdout",
     "output_type": "stream",
     "text": [
      "[1. 1. 1. 1.]\n"
     ]
    }
   ],
   "source": [
    "# Here is an example for backward substitution\n",
    "A =np.array([[1,2,3,1],\n",
    "           [0,4,5,3],\n",
    "           [0,0,6,2],\n",
    "            [0,0,0,5]],dtype=float)\n",
    "b=np.array([7,12,8,5],dtype=float)\n",
    "print(back_sub(A,b))"
   ]
  },
  {
   "cell_type": "markdown",
   "metadata": {},
   "source": [
    "## Iterative Methods for Linear Systems\n",
    "---\n",
    "Refer to John Foster's page on [iterative methods](https://johnfoster.pge.utexas.edu/numerical-methods-book/LinearAlgebra_IterativeSolvers.html).\n",
    "\n",
    "\n",
    "### Jacobi Method\n",
    "\n",
    "\n",
    "\n",
    ">  Initialize the iterative solution vector $x^{(0)}$ randomly, or with the zero vector,\n",
    "\n",
    ">  for k=0:maxIteration, update every element until convergece\n",
    "\n",
    ">> for i=1:n\n",
    "$$\n",
    "x^{(k+1)}_i  = \\frac{1}{a_{ii}} \\left(b_i -\\sum_{j\\ne i}a_{ij}x^{(k)}_j\\right).\n",
    "$$"
   ]
  },
  {
   "cell_type": "code",
   "execution_count": 48,
   "metadata": {},
   "outputs": [],
   "source": [
    "# You can modify this code to answer the following\n",
    "'''\n",
    "Jacobi's iteration method for solving the system of equations Ax=b.\n",
    "p0 is the initialization for the iteration.\n",
    "'''\n",
    "def jacobi(A, b, p0, tol, maxIter=100):\n",
    "    n=len(A)\n",
    "    p = p0\n",
    "\n",
    "    for k in range(maxIter):\n",
    "        p_old = p.copy() # In python assignment is not the same as copy\n",
    "        \n",
    "        # Update every component of iterant p\n",
    "        for i in range(n):\n",
    "            sumi = b[i];\n",
    "            for j in range(n):\n",
    "                if i==j: # Diagonal elements are not included in Jacobi\n",
    "                    continue;\n",
    "                sumi = sumi - A[i,j] * p_old[j]\n",
    "            p[i] = sumi/A[i,i]\n",
    "                \n",
    "        my_error = np.linalg.norm(p-p_old)/n\n",
    "       #  print(\"Relative error in iteration\", k+1,\":\",rel_error)\n",
    "        if my_error<tol:\n",
    "            print(\"TOLERANCE MET BEFORE MAX-ITERATION.\")\n",
    "            print(\"Total number of iterations:\",k)\n",
    "            break\n",
    "    return p;"
   ]
  },
  {
   "cell_type": "code",
   "execution_count": 49,
   "metadata": {},
   "outputs": [],
   "source": [
    "# Example System - This example is from the WikiPedia page on gauss Seidel\n",
    "A = np.array([[10, -1, 2, 0],\n",
    "              [-1, 11, -1, 3],\n",
    "              [2, -1, 10, -1],\n",
    "              [0, 3, -1, 8]],dtype=float)\n",
    "b = np.array([6, 25, -11, 15],dtype=float)"
   ]
  },
  {
   "cell_type": "code",
   "execution_count": 51,
   "metadata": {},
   "outputs": [
    {
     "name": "stdout",
     "output_type": "stream",
     "text": [
      "TOLERANCE MET BEFORE MAX-ITERATION.\n",
      "Total number of iterations: 24\n",
      "The solution is:\n",
      " [ 1.  2. -1.  1.]\n"
     ]
    }
   ],
   "source": [
    "x_0 = np.array([0, 0, 0, 0],dtype=float)\n",
    "soln  = jacobi(A,b,x_0,0.000000001,100)\n",
    "print(\"The solution is:\\n\",soln)"
   ]
  },
  {
   "cell_type": "code",
   "execution_count": 63,
   "metadata": {},
   "outputs": [],
   "source": [
    "n=1000\n",
    "A2 = 3*n * np.eye(n) + 1.0* np.random.randint(0,5,size=(n,n));"
   ]
  },
  {
   "cell_type": "code",
   "execution_count": 64,
   "metadata": {},
   "outputs": [],
   "source": [
    "known_x = 1.0*np.random.randint(1,5,(n,1));\n",
    "b2 = np.dot(A2,known_x);"
   ]
  },
  {
   "cell_type": "code",
   "execution_count": 65,
   "metadata": {},
   "outputs": [
    {
     "name": "stdout",
     "output_type": "stream",
     "text": [
      "TOLERANCE MET BEFORE MAX-ITERATION.\n",
      "Total number of iterations: 34\n",
      "The error:\n",
      " 3.2532451921552304e-05\n"
     ]
    }
   ],
   "source": [
    "soln  = jacobi(A2,b2,1.0*np.random.randint(1,2,(n,1)),0.0000001,100)\n",
    "#print(\"The solution is:\\n\",soln)\n",
    "print(\"The error:\\n\",np.linalg.norm(known_x-soln))"
   ]
  },
  {
   "cell_type": "code",
   "execution_count": 5,
   "metadata": {},
   "outputs": [
    {
     "name": "stdout",
     "output_type": "stream",
     "text": [
      "permutation vector initialized:  [0, 1, 2, 3, 4]\n",
      "Scaling Vector:  [9. 9. 9. 7. 9.]\n",
      "\n",
      " Pivot Element: 9.00 \n",
      "\n",
      "permutation vector:  [4, 1, 2, 3, 0]\n",
      "\n",
      " After PASS 1=========: \n",
      " [[0.55555556 3.44444444 5.33333333 2.11111111 7.33333333]\n",
      " [0.77777778 7.22222222 6.66666667 3.55555556 5.66666667]\n",
      " [0.22222222 2.77777778 4.33333333 7.44444444 7.33333333]\n",
      " [0.33333333 0.66666667 6.         2.66666667 5.        ]\n",
      " [9.         1.         3.         7.         3.        ]]\n",
      "Scaling Vector:  [9. 9. 9. 7. 9.]\n",
      "\n",
      " Pivot Element: 7.22 \n",
      "\n",
      "permutation vector:  [4, 1, 2, 3, 0]\n",
      "\n",
      " After PASS 2=========: \n",
      " [[0.55555556 0.47692308 2.15384615 0.41538462 4.63076923]\n",
      " [0.77777778 7.22222222 6.66666667 3.55555556 5.66666667]\n",
      " [0.22222222 0.38461538 1.76923077 6.07692308 5.15384615]\n",
      " [0.33333333 0.09230769 5.38461538 2.33846154 4.47692308]\n",
      " [9.         1.         3.         7.         3.        ]]\n",
      "Scaling Vector:  [9. 9. 9. 7. 9.]\n",
      "\n",
      " Pivot Element: 5.38 \n",
      "\n",
      "permutation vector:  [4, 1, 3, 2, 0]\n",
      "\n",
      " After PASS 3=========: \n",
      " [[ 0.55555556  0.47692308  0.4        -0.52        2.84      ]\n",
      " [ 0.77777778  7.22222222  6.66666667  3.55555556  5.66666667]\n",
      " [ 0.22222222  0.38461538  0.32857143  5.30857143  3.68285714]\n",
      " [ 0.33333333  0.09230769  5.38461538  2.33846154  4.47692308]\n",
      " [ 9.          1.          3.          7.          3.        ]]\n",
      "Scaling Vector:  [9. 9. 9. 7. 9.]\n",
      "\n",
      " Pivot Element: 5.31 \n",
      "\n",
      "permutation vector:  [4, 1, 3, 2, 0]\n",
      "\n",
      " After PASS 4=========: \n",
      " [[ 0.55555556  0.47692308  0.4        -0.09795479  3.2007535 ]\n",
      " [ 0.77777778  7.22222222  6.66666667  3.55555556  5.66666667]\n",
      " [ 0.22222222  0.38461538  0.32857143  5.30857143  3.68285714]\n",
      " [ 0.33333333  0.09230769  5.38461538  2.33846154  4.47692308]\n",
      " [ 9.          1.          3.          7.          3.        ]]\n"
     ]
    }
   ],
   "source": [
    "A5=np.array([[5,4,7,6,9],\n",
    "           [7,8,9,9,8],\n",
    "           [2,3,5,9,8],\n",
    "           [3,1,7,5,6],\n",
    "           [9,1,3,7,3]], dtype=float)\n",
    "A_ = GE_srpp(np.copy(A5))"
   ]
  },
  {
   "cell_type": "code",
   "execution_count": 2,
   "metadata": {},
   "outputs": [
    {
     "name": "stdout",
     "output_type": "stream",
     "text": [
      "Available Themes: \r\n",
      "   chesterish\r\n",
      "   grade3\r\n",
      "   gruvboxd\r\n",
      "   gruvboxl\r\n",
      "   monokai\r\n",
      "   oceans16\r\n",
      "   onedork\r\n",
      "   solarizedd\r\n",
      "   solarizedl\r\n"
     ]
    }
   ],
   "source": [
    "!jt -l"
   ]
  },
  {
   "cell_type": "code",
   "execution_count": 15,
   "metadata": {},
   "outputs": [],
   "source": [
    "!jt -t grade3"
   ]
  },
  {
   "cell_type": "code",
   "execution_count": null,
   "metadata": {},
   "outputs": [],
   "source": []
  }
 ],
 "metadata": {
  "kernelspec": {
   "display_name": "Python 3 (ipykernel)",
   "language": "python",
   "name": "python3"
  },
  "language_info": {
   "codemirror_mode": {
    "name": "ipython",
    "version": 3
   },
   "file_extension": ".py",
   "mimetype": "text/x-python",
   "name": "python",
   "nbconvert_exporter": "python",
   "pygments_lexer": "ipython3",
   "version": "3.9.7"
  }
 },
 "nbformat": 4,
 "nbformat_minor": 4
}
